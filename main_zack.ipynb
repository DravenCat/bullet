{
 "cells": [
  {
   "cell_type": "code",
   "id": "646ff20a",
   "metadata": {
    "ExecuteTime": {
     "end_time": "2025-07-20T19:54:28.784807Z",
     "start_time": "2025-07-20T19:54:28.660364Z"
    }
   },
   "source": [
    "import os, textwrap, math, shutil, random, time\n",
    "import numpy as np\n",
    "import gymnasium as gym\n",
    "import pybullet as p\n",
    "import pybullet_data\n",
    "from gymnasium import spaces"
   ],
   "outputs": [],
   "execution_count": 1
  },
  {
   "metadata": {
    "ExecuteTime": {
     "end_time": "2025-07-20T19:54:29.063914Z",
     "start_time": "2025-07-20T19:54:28.789088Z"
    }
   },
   "cell_type": "code",
   "source": [
    "physicsClient = p.connect(p.GUI)\n",
    "p.setAdditionalSearchPath(pybullet_data.getDataPath())\n",
    "p.setGravity(0, 0, -10)"
   ],
   "id": "486ec0c6df1e6130",
   "outputs": [],
   "execution_count": 2
  },
  {
   "cell_type": "code",
   "id": "9e6ad4be",
   "metadata": {
    "ExecuteTime": {
     "end_time": "2025-07-20T19:48:22.952855Z",
     "start_time": "2025-07-20T19:48:22.914820Z"
    }
   },
   "source": [
    "# os.makedirs(\"meshes\", exist_ok=True)   # put Body.stl, Rear-Fin.stl, Front-Fin.stl here\n",
    "#\n",
    "# URDF_TEXT = textwrap.dedent(\"\"\"\n",
    "# <robot name=\"simple_fish\">\n",
    "#\n",
    "#   <!-- ▸ BODY (parent link) -->\n",
    "#   <link name=\"body\">\n",
    "#     <inertial>\n",
    "#       <mass value=\"0.15\"/>\n",
    "#       <inertia ixx=\"2e-4\" iyy=\"2e-4\" izz=\"2e-4\"/>\n",
    "#     </inertial>\n",
    "#     <visual>\n",
    "#       <geometry>\n",
    "#         <mesh filename=\"meshes/Body.stl\" scale=\"0.001 0.001 0.001\"/>\n",
    "#       </geometry>\n",
    "#     </visual>\n",
    "#     <collision>\n",
    "#       <geometry>\n",
    "#         <mesh filename=\"meshes/Body.stl\" scale=\"0.001 0.001 0.001\"/>\n",
    "#       </geometry>\n",
    "#     </collision>\n",
    "#   </link>\n",
    "#\n",
    "#   <!-- ▸ TAIL (hinged) -->\n",
    "#   <link name=\"tail\">\n",
    "#     <inertial>\n",
    "#       <mass value=\"0.05\"/>\n",
    "#       <inertia ixx=\"5e-5\" iyy=\"5e-5\" izz=\"5e-5\"/>\n",
    "#     </inertial>\n",
    "#     <visual>\n",
    "#       <geometry>\n",
    "#         <mesh filename=\"meshes/Rear-Fin.stl\" scale=\"0.001 0.001 0.001\"/>\n",
    "#       </geometry>\n",
    "#     </visual>\n",
    "#     <collision>\n",
    "#       <geometry>\n",
    "#         <mesh filename=\"meshes/Rear-Fin.stl\" scale=\"0.001 0.001 0.001\"/>\n",
    "#       </geometry>\n",
    "#     </collision>\n",
    "#   </link>\n",
    "#\n",
    "#   <!-- ▸ FRONT FIN (fixed) -->\n",
    "#   <link name=\"front_fin\">\n",
    "#     <inertial>\n",
    "#       <mass value=\"0.02\"/>\n",
    "#       <inertia ixx=\"2e-5\" iyy=\"2e-5\" izz=\"2e-5\"/>\n",
    "#     </inertial>\n",
    "#     <visual>\n",
    "#       <geometry>\n",
    "#         <mesh filename=\"meshes/Front-Fin.stl\" scale=\"0.001 0.001 0.001\"/>\n",
    "#       </geometry>\n",
    "#     </visual>\n",
    "#     <collision>\n",
    "#       <geometry>\n",
    "#         <mesh filename=\"meshes/Front-Fin.stl\" scale=\"0.001 0.001 0.001\"/>\n",
    "#       </geometry>\n",
    "#     </collision>\n",
    "#   </link>\n",
    "#\n",
    "#   <!-- revolute hinge: body ↔ tail -->\n",
    "#   <joint name=\"tail_hinge\" type=\"revolute\">\n",
    "#     <parent link=\"body\"/>\n",
    "#     <child  link=\"tail\"/>\n",
    "#     <origin xyz=\"0 -0.15 0\" rpy=\"0 0 0\"/>\n",
    "#     <axis xyz=\"0 0 1\"/>\n",
    "#     <limit lower=\"-1.0\" upper=\"1.0\" effort=\"1.0\" velocity=\"10.0\"/>\n",
    "#   </joint>\n",
    "#\n",
    "#   <!-- fixed joint: body ↔ front fin -->\n",
    "#   <joint name=\"fin_pin\" type=\"fixed\">\n",
    "#     <parent link=\"body\"/>\n",
    "#     <child  link=\"front_fin\"/>\n",
    "#     <origin xyz=\"0.05 0 -0.02\" rpy=\"0 0 0\"/>\n",
    "#   </joint>\n",
    "#\n",
    "# </robot>\n",
    "# \"\"\").strip()\n",
    "#\n",
    "# with open(\"simple_fish.urdf\", \"w\") as f:\n",
    "#     f.write(URDF_TEXT)\n",
    "#\n",
    "# print(\"✓ Updated URDF written\")"
   ],
   "outputs": [
    {
     "ename": "UnicodeEncodeError",
     "evalue": "'gbk' codec can't encode character '\\u25b8' in position 37: illegal multibyte sequence",
     "output_type": "error",
     "traceback": [
      "\u001B[31m---------------------------------------------------------------------------\u001B[39m",
      "\u001B[31mUnicodeEncodeError\u001B[39m                        Traceback (most recent call last)",
      "\u001B[36mCell\u001B[39m\u001B[36m \u001B[39m\u001B[32mIn[5]\u001B[39m\u001B[32m, line 80\u001B[39m\n\u001B[32m      3\u001B[39m URDF_TEXT = textwrap.dedent(\u001B[33m\"\"\"\u001B[39m\n\u001B[32m      4\u001B[39m \u001B[33m<robot name=\u001B[39m\u001B[33m\"\u001B[39m\u001B[33msimple_fish\u001B[39m\u001B[33m\"\u001B[39m\u001B[33m>\u001B[39m\n\u001B[32m      5\u001B[39m \n\u001B[32m   (...)\u001B[39m\u001B[32m     76\u001B[39m \u001B[33m</robot>\u001B[39m\n\u001B[32m     77\u001B[39m \u001B[33m\"\"\"\u001B[39m).strip()\n\u001B[32m     79\u001B[39m \u001B[38;5;28;01mwith\u001B[39;00m \u001B[38;5;28mopen\u001B[39m(\u001B[33m\"\u001B[39m\u001B[33msimple_fish.urdf\u001B[39m\u001B[33m\"\u001B[39m, \u001B[33m\"\u001B[39m\u001B[33mw\u001B[39m\u001B[33m\"\u001B[39m) \u001B[38;5;28;01mas\u001B[39;00m f:\n\u001B[32m---> \u001B[39m\u001B[32m80\u001B[39m     \u001B[43mf\u001B[49m\u001B[43m.\u001B[49m\u001B[43mwrite\u001B[49m\u001B[43m(\u001B[49m\u001B[43mURDF_TEXT\u001B[49m\u001B[43m)\u001B[49m\n\u001B[32m     82\u001B[39m \u001B[38;5;28mprint\u001B[39m(\u001B[33m\"\u001B[39m\u001B[33m✓ Updated URDF written\u001B[39m\u001B[33m\"\u001B[39m)\n",
      "\u001B[31mUnicodeEncodeError\u001B[39m: 'gbk' codec can't encode character '\\u25b8' in position 37: illegal multibyte sequence"
     ]
    }
   ],
   "execution_count": 5
  },
  {
   "cell_type": "code",
   "id": "766e6108",
   "metadata": {
    "ExecuteTime": {
     "end_time": "2025-07-20T19:54:33.940083Z",
     "start_time": "2025-07-20T19:54:33.932517Z"
    }
   },
   "source": [
    "WATER_RHO = 1000        # kg m‑3\n",
    "g          = 9.81\n",
    "\n",
    "def apply_buoyancy_and_drag(body_id, volume=2e-4, lin_drag=3.0, ang_drag=2e-3):\n",
    "    \"\"\"Adds crude buoyancy and isotropic linear / angular damping each sim step.\"\"\"\n",
    "    # Buoyancy\n",
    "    p.applyExternalForce(body_id, -1, (0, 0, WATER_RHO*volume*g), (0,0,0),\n",
    "                         p.LINK_FRAME)\n",
    "    # Drag\n",
    "    lin_vel, ang_vel = p.getBaseVelocity(body_id)\n",
    "    p.applyExternalForce(body_id, -1,\n",
    "        (-lin_drag*lin_vel[0], -lin_drag*lin_vel[1], -lin_drag*lin_vel[2]),\n",
    "        (0,0,0), p.LINK_FRAME)\n",
    "    p.applyExternalTorque(body_id, -1,\n",
    "        (-ang_drag*ang_vel[0], -ang_drag*ang_vel[1], -ang_drag*ang_vel[2]),\n",
    "        p.LINK_FRAME)"
   ],
   "outputs": [],
   "execution_count": 3
  },
  {
   "cell_type": "code",
   "id": "a431a4cc",
   "metadata": {
    "ExecuteTime": {
     "end_time": "2025-07-20T19:54:36.510743Z",
     "start_time": "2025-07-20T19:54:36.499903Z"
    }
   },
   "source": [
    "class FishEnv(gym.Env):\n",
    "    \"\"\"One‑servo biomimetic fish with PyBullet water hack.\"\"\"\n",
    "    metadata = {\"render_modes\": [\"human\", \"rgb_array\"], \"render_fps\": 60}\n",
    "\n",
    "    def __init__(self, render_mode=None, max_torque=0.3):\n",
    "        super().__init__()\n",
    "        self.render_mode, self.max_torque = render_mode, max_torque\n",
    "        self.observation_space = spaces.Box(-np.inf, np.inf, shape=(11,))\n",
    "        self.action_space      = spaces.Box(-1.0, 1.0, shape=(1,))\n",
    "\n",
    "        if p.isConnected():                 # ensure single session\n",
    "            p.disconnect()\n",
    "        if render_mode == \"human\":\n",
    "            cid = p.connect(p.SHARED_MEMORY)\n",
    "            if cid < 0:\n",
    "                p.connect(p.GUI)\n",
    "        else:\n",
    "            p.connect(p.DIRECT)\n",
    "\n",
    "        p.setAdditionalSearchPath(pybullet_data.getDataPath())\n",
    "        p.setGravity(0, 0, -g)\n",
    "\n",
    "    def reset(self, *, seed=None, options=None):\n",
    "        super().reset(seed=seed)\n",
    "        p.resetSimulation()\n",
    "        p.loadURDF(\"plane.urdf\")            # seafloor\n",
    "        self.fish_id = p.loadURDF(\"simple_fish.urdf\", [0,0,-0.5])\n",
    "        self.tail_j  = 0\n",
    "        p.setJointMotorControl2(self.fish_id, self.tail_j,\n",
    "                                p.VELOCITY_CONTROL, force=0)   # disable default\n",
    "        return self._get_obs(), {}\n",
    "\n",
    "    def step(self, action):\n",
    "        torque = float(np.clip(action[0], -1, 1) * self.max_torque)\n",
    "        p.setJointMotorControl2(self.fish_id, self.tail_j, p.TORQUE_CONTROL, force=torque)\n",
    "\n",
    "        apply_buoyancy_and_drag(self.fish_id)\n",
    "        p.stepSimulation()\n",
    "\n",
    "        obs   = self._get_obs()\n",
    "        rew   = self._reward(obs, torque)\n",
    "        term  = trunc = False\n",
    "        if self.render_mode == \"human\":\n",
    "            time.sleep(1/240)\n",
    "        return obs, rew, term, trunc, {}\n",
    "\n",
    "    # ---- helpers ----\n",
    "    def _get_obs(self):\n",
    "        pos, orn  = p.getBasePositionAndOrientation(self.fish_id)\n",
    "        lin_v, ang_v = p.getBaseVelocity(self.fish_id)\n",
    "        depth = -pos[2]\n",
    "        return np.array(list(orn) + list(lin_v) + list(ang_v) + [depth], dtype=np.float32)\n",
    "\n",
    "    def _reward(self, obs, torque):\n",
    "        rot = p.getMatrixFromQuaternion(obs[:4])\n",
    "        body_fwd_axis = (-rot[1], -rot[4], -rot[7])        # -Y\n",
    "        fwd_speed = np.dot(obs[4:7], body_fwd_axis)\n",
    "        return fwd_speed - 0.01*torque**2\n",
    "\n",
    "    def close(self):\n",
    "        if p.isConnected():\n",
    "            p.disconnect()"
   ],
   "outputs": [],
   "execution_count": 4
  },
  {
   "cell_type": "code",
   "id": "f0d74823",
   "metadata": {
    "ExecuteTime": {
     "end_time": "2025-07-20T19:54:39.568231Z",
     "start_time": "2025-07-20T19:54:39.563553Z"
    }
   },
   "source": [
    "p.resetDebugVisualizerCamera(\n",
    "    cameraDistance=0.5,   # smaller = closer\n",
    "    cameraYaw=50,\n",
    "    cameraPitch=-20,\n",
    "    cameraTargetPosition=[0, 0, -0.5])"
   ],
   "outputs": [],
   "execution_count": 5
  },
  {
   "cell_type": "code",
   "id": "df1b9068",
   "metadata": {
    "ExecuteTime": {
     "end_time": "2025-07-20T19:52:40.929725Z",
     "start_time": "2025-07-20T19:52:40.300055Z"
    }
   },
   "source": [
    "# # inside FishEnv.reset(), replace the load line:\n",
    "# self.fish_id = p.loadURDF(\"simple_fish.urdf\",\n",
    "#                           [0, 0, -0.5],\n",
    "#                           globalScaling=20)   # 20× bigger"
   ],
   "outputs": [
    {
     "ename": "NameError",
     "evalue": "name 'self' is not defined",
     "output_type": "error",
     "traceback": [
      "\u001B[31m---------------------------------------------------------------------------\u001B[39m",
      "\u001B[31mNameError\u001B[39m                                 Traceback (most recent call last)",
      "\u001B[36mCell\u001B[39m\u001B[36m \u001B[39m\u001B[32mIn[6]\u001B[39m\u001B[32m, line 2\u001B[39m\n\u001B[32m      1\u001B[39m \u001B[38;5;66;03m# inside FishEnv.reset(), replace the load line:\u001B[39;00m\n\u001B[32m----> \u001B[39m\u001B[32m2\u001B[39m \u001B[38;5;28;43mself\u001B[39;49m.fish_id = p.loadURDF(\u001B[33m\"\u001B[39m\u001B[33msimple_fish.urdf\u001B[39m\u001B[33m\"\u001B[39m,\n\u001B[32m      3\u001B[39m                           [\u001B[32m0\u001B[39m, \u001B[32m0\u001B[39m, -\u001B[32m0.5\u001B[39m],\n\u001B[32m      4\u001B[39m                           globalScaling=\u001B[32m20\u001B[39m)   \u001B[38;5;66;03m# 20× bigger\u001B[39;00m\n",
      "\u001B[31mNameError\u001B[39m: name 'self' is not defined"
     ]
    }
   ],
   "execution_count": 6
  },
  {
   "cell_type": "code",
   "id": "d4b46020",
   "metadata": {
    "ExecuteTime": {
     "end_time": "2025-07-20T19:54:52.010822Z",
     "start_time": "2025-07-20T19:54:41.688805Z"
    }
   },
   "source": [
    "env = FishEnv(render_mode=\"human\")\n",
    "obs, _ = env.reset()\n",
    "for _ in range(2000):\n",
    "    obs, _, _, _, _ = env.step(env.action_space.sample())\n",
    "# env.close()"
   ],
   "outputs": [],
   "execution_count": 6
  }
 ],
 "metadata": {
  "kernelspec": {
   "display_name": "base",
   "language": "python",
   "name": "python3"
  },
  "language_info": {
   "codemirror_mode": {
    "name": "ipython",
    "version": 3
   },
   "file_extension": ".py",
   "mimetype": "text/x-python",
   "name": "python",
   "nbconvert_exporter": "python",
   "pygments_lexer": "ipython3",
   "version": "3.12.3"
  }
 },
 "nbformat": 4,
 "nbformat_minor": 5
}

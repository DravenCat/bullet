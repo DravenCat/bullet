{
 "cells": [
  {
   "cell_type": "code",
   "execution_count": 25,
   "id": "646ff20a",
   "metadata": {},
   "outputs": [],
   "source": [
    "import os, textwrap, math, shutil, random, time\n",
    "import numpy as np\n",
    "import gymnasium as gym\n",
    "import pybullet as p\n",
    "import pybullet_data\n",
    "from gymnasium import spaces"
   ]
  },
  {
   "cell_type": "code",
   "execution_count": 21,
   "id": "9e6ad4be",
   "metadata": {},
   "outputs": [
    {
     "name": "stdout",
     "output_type": "stream",
     "text": [
      "✓ Updated URDF written\n"
     ]
    }
   ],
   "source": [
    "os.makedirs(\"meshes\", exist_ok=True)   # put Body_Fish.stl, RearFin_Fish.stl, FrontFin_Fish.stl here\n",
    "\n",
    "URDF_TEXT = textwrap.dedent(\"\"\"\n",
    "<robot name=\"simple_fish\">\n",
    "\n",
    "  <!-- ▸ BODY (parent link) -->\n",
    "  <link name=\"body\">\n",
    "    <inertial>\n",
    "      <mass value=\"0.15\"/>\n",
    "      <inertia ixx=\"2e-4\" iyy=\"2e-4\" izz=\"2e-4\"/>\n",
    "    </inertial>\n",
    "    <visual>\n",
    "      <geometry>\n",
    "        <mesh filename=\"meshes/Body_Fish.stl\" scale=\"0.001 0.001 0.001\"/>\n",
    "      </geometry>\n",
    "    </visual>\n",
    "    <collision>\n",
    "      <geometry>\n",
    "        <mesh filename=\"meshes/Body_Fish.stl\" scale=\"0.001 0.001 0.001\"/>\n",
    "      </geometry>\n",
    "    </collision>\n",
    "  </link>\n",
    "\n",
    "  <!-- ▸ TAIL (hinged) -->\n",
    "  <link name=\"tail\">\n",
    "    <inertial>\n",
    "      <mass value=\"0.05\"/>\n",
    "      <inertia ixx=\"5e-5\" iyy=\"5e-5\" izz=\"5e-5\"/>\n",
    "    </inertial>\n",
    "    <visual>\n",
    "      <geometry>\n",
    "        <mesh filename=\"meshes/RearFin_Fish.stl\" scale=\"0.001 0.001 0.001\"/>\n",
    "      </geometry>\n",
    "    </visual>\n",
    "    <collision>\n",
    "      <geometry>\n",
    "        <mesh filename=\"meshes/RearFin_Fish.stl\" scale=\"0.001 0.001 0.001\"/>\n",
    "      </geometry>\n",
    "    </collision>\n",
    "  </link>\n",
    "\n",
    "  <!-- ▸ FRONT FIN (fixed) -->\n",
    "  <link name=\"front_fin\">\n",
    "    <inertial>\n",
    "      <mass value=\"0.02\"/>\n",
    "      <inertia ixx=\"2e-5\" iyy=\"2e-5\" izz=\"2e-5\"/>\n",
    "    </inertial>\n",
    "    <visual>\n",
    "      <geometry>\n",
    "        <mesh filename=\"meshes/FrontFin_Fish.stl\" scale=\"0.001 0.001 0.001\"/>\n",
    "      </geometry>\n",
    "    </visual>\n",
    "    <collision>\n",
    "      <geometry>\n",
    "        <mesh filename=\"meshes/FrontFin_Fish.stl\" scale=\"0.001 0.001 0.001\"/>\n",
    "      </geometry>\n",
    "    </collision>\n",
    "  </link>\n",
    "\n",
    "  <!-- revolute hinge: body ↔ tail -->\n",
    "  <joint name=\"tail_hinge\" type=\"revolute\">\n",
    "    <parent link=\"body\"/>\n",
    "    <child  link=\"tail\"/>\n",
    "    <origin xyz=\"0 -0.15 0\" rpy=\"0 0 0\"/>\n",
    "    <axis xyz=\"0 0 1\"/>\n",
    "    <limit lower=\"-1.0\" upper=\"1.0\" effort=\"1.0\" velocity=\"10.0\"/>\n",
    "  </joint>\n",
    "\n",
    "  <!-- fixed joint: body ↔ front fin -->\n",
    "  <joint name=\"fin_pin\" type=\"fixed\">\n",
    "    <parent link=\"body\"/>\n",
    "    <child  link=\"front_fin\"/>\n",
    "    <origin xyz=\"0.05 0 -0.02\" rpy=\"0 0 0\"/>\n",
    "  </joint>\n",
    "\n",
    "</robot>\n",
    "\"\"\").strip()\n",
    "\n",
    "with open(\"simple_fish.urdf\", \"w\") as f:\n",
    "    f.write(URDF_TEXT)\n",
    "\n",
    "print(\"✓ Updated URDF written\")"
   ]
  },
  {
   "cell_type": "code",
   "execution_count": 22,
   "id": "766e6108",
   "metadata": {},
   "outputs": [],
   "source": [
    "WATER_RHO = 1000        # kg m‑3\n",
    "g          = 9.81\n",
    "\n",
    "def apply_buoyancy_and_drag(body_id, volume=2e-4, lin_drag=3.0, ang_drag=2e-3):\n",
    "    \"\"\"Adds crude buoyancy and isotropic linear / angular damping each sim step.\"\"\"\n",
    "    # Buoyancy\n",
    "    p.applyExternalForce(body_id, -1, (0, 0, WATER_RHO*volume*g), (0,0,0),\n",
    "                         p.LINK_FRAME)\n",
    "    # Drag\n",
    "    lin_vel, ang_vel = p.getBaseVelocity(body_id)\n",
    "    p.applyExternalForce(body_id, -1,\n",
    "        (-lin_drag*lin_vel[0], -lin_drag*lin_vel[1], -lin_drag*lin_vel[2]),\n",
    "        (0,0,0), p.LINK_FRAME)\n",
    "    p.applyExternalTorque(body_id, -1,\n",
    "        (-ang_drag*ang_vel[0], -ang_drag*ang_vel[1], -ang_drag*ang_vel[2]),\n",
    "        p.LINK_FRAME)"
   ]
  },
  {
   "cell_type": "code",
   "execution_count": 28,
   "id": "a431a4cc",
   "metadata": {},
   "outputs": [],
   "source": [
    "class FishEnv(gym.Env):\n",
    "    \"\"\"One‑servo biomimetic fish with PyBullet water hack.\"\"\"\n",
    "    metadata = {\"render_modes\": [\"human\", \"rgb_array\"], \"render_fps\": 60}\n",
    "\n",
    "    def __init__(self, render_mode=None, max_torque=0.3):\n",
    "        super().__init__()\n",
    "        self.render_mode, self.max_torque = render_mode, max_torque\n",
    "        self.observation_space = spaces.Box(-np.inf, np.inf, shape=(11,))\n",
    "        self.action_space      = spaces.Box(-1.0, 1.0, shape=(1,))\n",
    "\n",
    "        if p.isConnected():                 # ensure single session\n",
    "            p.disconnect()\n",
    "        if render_mode == \"human\":\n",
    "            cid = p.connect(p.SHARED_MEMORY)\n",
    "            if cid < 0:\n",
    "                p.connect(p.GUI)\n",
    "        else:\n",
    "            p.connect(p.DIRECT)\n",
    "\n",
    "        p.setAdditionalSearchPath(pybullet_data.getDataPath())\n",
    "        p.setGravity(0, 0, -g)\n",
    "\n",
    "    def reset(self, *, seed=None, options=None):\n",
    "        super().reset(seed=seed)\n",
    "        p.resetSimulation()\n",
    "        p.loadURDF(\"plane.urdf\")            # seafloor\n",
    "        self.fish_id = p.loadURDF(\"simple_fish.urdf\", [0,0,-0.5])\n",
    "        self.tail_j  = 0\n",
    "        p.setJointMotorControl2(self.fish_id, self.tail_j,\n",
    "                                p.VELOCITY_CONTROL, force=0)   # disable default\n",
    "        return self._get_obs(), {}\n",
    "\n",
    "    def step(self, action):\n",
    "        torque = float(np.clip(action[0], -1, 1) * self.max_torque)\n",
    "        p.setJointMotorControl2(self.fish_id, self.tail_j, p.TORQUE_CONTROL, force=torque)\n",
    "\n",
    "        apply_buoyancy_and_drag(self.fish_id)\n",
    "        p.stepSimulation()\n",
    "\n",
    "        obs   = self._get_obs()\n",
    "        rew   = self._reward(obs, torque)\n",
    "        term  = trunc = False\n",
    "        if self.render_mode == \"human\":\n",
    "            time.sleep(1/240)\n",
    "        return obs, rew, term, trunc, {}\n",
    "\n",
    "    # ---- helpers ----\n",
    "    def _get_obs(self):\n",
    "        pos, orn  = p.getBasePositionAndOrientation(self.fish_id)\n",
    "        lin_v, ang_v = p.getBaseVelocity(self.fish_id)\n",
    "        depth = -pos[2]\n",
    "        return np.array(list(orn) + list(lin_v) + list(ang_v) + [depth], dtype=np.float32)\n",
    "\n",
    "    def _reward(self, obs, torque):\n",
    "        rot = p.getMatrixFromQuaternion(obs[:4])\n",
    "        body_fwd_axis = (-rot[1], -rot[4], -rot[7])        # -Y\n",
    "        fwd_speed = np.dot(obs[4:7], body_fwd_axis)\n",
    "        return fwd_speed - 0.01*torque**2\n",
    "\n",
    "    def close(self):\n",
    "        if p.isConnected():\n",
    "            p.disconnect()"
   ]
  },
  {
   "cell_type": "code",
   "execution_count": null,
   "id": "f0d74823",
   "metadata": {},
   "outputs": [
    {
     "ename": "error",
     "evalue": "Not connected to physics server.",
     "output_type": "error",
     "traceback": [
      "\u001b[1;31m---------------------------------------------------------------------------\u001b[0m",
      "\u001b[1;31merror\u001b[0m                                     Traceback (most recent call last)",
      "Cell \u001b[1;32mIn[29], line 1\u001b[0m\n\u001b[1;32m----> 1\u001b[0m p\u001b[38;5;241m.\u001b[39mresetDebugVisualizerCamera(\n\u001b[0;32m      2\u001b[0m     cameraDistance\u001b[38;5;241m=\u001b[39m\u001b[38;5;241m0.5\u001b[39m,   \u001b[38;5;66;03m# smaller = closer\u001b[39;00m\n\u001b[0;32m      3\u001b[0m     cameraYaw\u001b[38;5;241m=\u001b[39m\u001b[38;5;241m50\u001b[39m,\n\u001b[0;32m      4\u001b[0m     cameraPitch\u001b[38;5;241m=\u001b[39m\u001b[38;5;241m-\u001b[39m\u001b[38;5;241m20\u001b[39m,\n\u001b[0;32m      5\u001b[0m     cameraTargetPosition\u001b[38;5;241m=\u001b[39m[\u001b[38;5;241m0\u001b[39m, \u001b[38;5;241m0\u001b[39m, \u001b[38;5;241m-\u001b[39m\u001b[38;5;241m0.5\u001b[39m])\n",
      "\u001b[1;31merror\u001b[0m: Not connected to physics server."
     ]
    }
   ],
   "source": [
    "p.resetDebugVisualizerCamera(\n",
    "    cameraDistance=0.5,   # smaller = closer\n",
    "    cameraYaw=50,\n",
    "    cameraPitch=-20,\n",
    "    cameraTargetPosition=[0, 0, -0.5])"
   ]
  },
  {
   "cell_type": "code",
   "execution_count": null,
   "id": "df1b9068",
   "metadata": {},
   "outputs": [
    {
     "ename": "error",
     "evalue": "Not connected to physics server.",
     "output_type": "error",
     "traceback": [
      "\u001b[1;31m---------------------------------------------------------------------------\u001b[0m",
      "\u001b[1;31merror\u001b[0m                                     Traceback (most recent call last)",
      "Cell \u001b[1;32mIn[30], line 2\u001b[0m\n\u001b[0;32m      1\u001b[0m \u001b[38;5;66;03m# inside FishEnv.reset(), replace the load line:\u001b[39;00m\n\u001b[1;32m----> 2\u001b[0m \u001b[38;5;28mself\u001b[39m\u001b[38;5;241m.\u001b[39mfish_id \u001b[38;5;241m=\u001b[39m p\u001b[38;5;241m.\u001b[39mloadURDF(\u001b[38;5;124m\"\u001b[39m\u001b[38;5;124msimple_fish.urdf\u001b[39m\u001b[38;5;124m\"\u001b[39m,\n\u001b[0;32m      3\u001b[0m                           [\u001b[38;5;241m0\u001b[39m, \u001b[38;5;241m0\u001b[39m, \u001b[38;5;241m-\u001b[39m\u001b[38;5;241m0.5\u001b[39m],\n\u001b[0;32m      4\u001b[0m                           globalScaling\u001b[38;5;241m=\u001b[39m\u001b[38;5;241m20\u001b[39m)\n",
      "\u001b[1;31merror\u001b[0m: Not connected to physics server."
     ]
    }
   ],
   "source": [
    "# inside FishEnv.reset(), replace the load line:\n",
    "self.fish_id = p.loadURDF(\"simple_fish.urdf\",\n",
    "                          [0, 0, -0.5],\n",
    "                          globalScaling=20)   # 20× bigger"
   ]
  },
  {
   "cell_type": "code",
   "execution_count": 31,
   "id": "d4b46020",
   "metadata": {},
   "outputs": [
    {
     "ename": "error",
     "evalue": "Not connected to physics server.",
     "output_type": "error",
     "traceback": [
      "\u001b[1;31m---------------------------------------------------------------------------\u001b[0m",
      "\u001b[1;31merror\u001b[0m                                     Traceback (most recent call last)",
      "Cell \u001b[1;32mIn[31], line 4\u001b[0m\n\u001b[0;32m      2\u001b[0m obs, _ \u001b[38;5;241m=\u001b[39m env\u001b[38;5;241m.\u001b[39mreset()\n\u001b[0;32m      3\u001b[0m \u001b[38;5;28;01mfor\u001b[39;00m _ \u001b[38;5;129;01min\u001b[39;00m \u001b[38;5;28mrange\u001b[39m(\u001b[38;5;241m2000\u001b[39m):\n\u001b[1;32m----> 4\u001b[0m     obs, _, _, _, _ \u001b[38;5;241m=\u001b[39m env\u001b[38;5;241m.\u001b[39mstep(env\u001b[38;5;241m.\u001b[39maction_space\u001b[38;5;241m.\u001b[39msample())\n\u001b[0;32m      5\u001b[0m env\u001b[38;5;241m.\u001b[39mclose()\n",
      "Cell \u001b[1;32mIn[28], line 35\u001b[0m, in \u001b[0;36mFishEnv.step\u001b[1;34m(self, action)\u001b[0m\n\u001b[0;32m     33\u001b[0m \u001b[38;5;28;01mdef\u001b[39;00m \u001b[38;5;21mstep\u001b[39m(\u001b[38;5;28mself\u001b[39m, action):\n\u001b[0;32m     34\u001b[0m     torque \u001b[38;5;241m=\u001b[39m \u001b[38;5;28mfloat\u001b[39m(np\u001b[38;5;241m.\u001b[39mclip(action[\u001b[38;5;241m0\u001b[39m], \u001b[38;5;241m-\u001b[39m\u001b[38;5;241m1\u001b[39m, \u001b[38;5;241m1\u001b[39m) \u001b[38;5;241m*\u001b[39m \u001b[38;5;28mself\u001b[39m\u001b[38;5;241m.\u001b[39mmax_torque)\n\u001b[1;32m---> 35\u001b[0m     p\u001b[38;5;241m.\u001b[39msetJointMotorControl2(\u001b[38;5;28mself\u001b[39m\u001b[38;5;241m.\u001b[39mfish_id, \u001b[38;5;28mself\u001b[39m\u001b[38;5;241m.\u001b[39mtail_j, p\u001b[38;5;241m.\u001b[39mTORQUE_CONTROL, force\u001b[38;5;241m=\u001b[39mtorque)\n\u001b[0;32m     37\u001b[0m     apply_buoyancy_and_drag(\u001b[38;5;28mself\u001b[39m\u001b[38;5;241m.\u001b[39mfish_id)\n\u001b[0;32m     38\u001b[0m     p\u001b[38;5;241m.\u001b[39mstepSimulation()\n",
      "\u001b[1;31merror\u001b[0m: Not connected to physics server."
     ]
    }
   ],
   "source": [
    "env = FishEnv(render_mode=\"human\")\n",
    "obs, _ = env.reset()\n",
    "for _ in range(2000):\n",
    "    obs, _, _, _, _ = env.step(env.action_space.sample())\n",
    "env.close()"
   ]
  }
 ],
 "metadata": {
  "kernelspec": {
   "display_name": "base",
   "language": "python",
   "name": "python3"
  },
  "language_info": {
   "codemirror_mode": {
    "name": "ipython",
    "version": 3
   },
   "file_extension": ".py",
   "mimetype": "text/x-python",
   "name": "python",
   "nbconvert_exporter": "python",
   "pygments_lexer": "ipython3",
   "version": "3.12.3"
  }
 },
 "nbformat": 4,
 "nbformat_minor": 5
}
